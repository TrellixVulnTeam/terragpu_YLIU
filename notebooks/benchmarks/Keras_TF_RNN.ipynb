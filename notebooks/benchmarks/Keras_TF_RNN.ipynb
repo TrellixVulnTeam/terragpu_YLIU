{
 "cells": [
  {
   "cell_type": "markdown",
   "metadata": {},
   "source": [
    "# High-level RNN Keras (TF) Example"
   ]
  },
  {
   "cell_type": "markdown",
   "metadata": {},
   "source": [
    "*Modified by Jordan A Caraballo Vega (jordancaraballo)*"
   ]
  },
  {
   "cell_type": "code",
   "execution_count": 1,
   "metadata": {},
   "outputs": [
    {
     "name": "stderr",
     "output_type": "stream",
     "text": [
      "Using TensorFlow backend.\n"
     ]
    }
   ],
   "source": [
    "import os\n",
    "import sys\n",
    "import numpy as np\n",
    "os.environ['KERAS_BACKEND'] = \"tensorflow\"\n",
    "\n",
    "import warnings # make notebook more readable and nice\n",
    "warnings.filterwarnings('ignore', category=FutureWarning)\n",
    "warnings.filterwarnings('ignore', category=DeprecationWarning)\n",
    "from tensorflow.python.util import deprecation\n",
    "deprecation._PRINT_DEPRECATION_WARNINGS = False\n",
    "\n",
    "import keras as K\n",
    "import tensorflow as tf\n",
    "from keras.models import Sequential\n",
    "from keras.layers import Dense, Embedding, GRU, CuDNNGRU\n",
    "from common.params_lstm import *\n",
    "from common.utils import *"
   ]
  },
  {
   "cell_type": "code",
   "execution_count": 2,
   "metadata": {},
   "outputs": [],
   "source": [
    "# Force one-gpu\n",
    "os.environ[\"CUDA_VISIBLE_DEVICES\"] = \"0\""
   ]
  },
  {
   "cell_type": "code",
   "execution_count": 3,
   "metadata": {},
   "outputs": [
    {
     "name": "stdout",
     "output_type": "stream",
     "text": [
      "OS:  linux\n",
      "Python:  3.6.7 | packaged by conda-forge | (default, Jul  2 2019, 02:18:42) \n",
      "[GCC 7.3.0]\n",
      "Keras:  2.2.4\n",
      "Numpy:  1.17.0\n",
      "Tensorflow:  1.13.1\n",
      "tensorflow\n",
      "channels_last\n",
      "GPU:  ['Tesla V100-SXM2-16GB', 'Tesla V100-SXM2-16GB', 'Tesla V100-SXM2-16GB', 'Tesla V100-SXM2-16GB']\n",
      "CUDA Version 10.1.243\n",
      "CuDNN Version  No CUDNN in this machine\n"
     ]
    }
   ],
   "source": [
    "print(\"OS: \", sys.platform)\n",
    "print(\"Python: \", sys.version)\n",
    "print(\"Keras: \", K.__version__)\n",
    "print(\"Numpy: \", np.__version__)\n",
    "print(\"Tensorflow: \", tf.__version__)\n",
    "print(K.backend.backend())\n",
    "print(K.backend.image_data_format())\n",
    "print(\"GPU: \", get_gpu_name())\n",
    "print(get_cuda_version())\n",
    "print(\"CuDNN Version \", get_cudnn_version())"
   ]
  },
  {
   "cell_type": "code",
   "execution_count": 4,
   "metadata": {},
   "outputs": [],
   "source": [
    "def create_symbol(CUDNN=True, maxf=MAXFEATURES, edim=EMBEDSIZE, nhid=NUMHIDDEN, maxl=MAXLEN):\n",
    "    model = Sequential()\n",
    "    model.add(Embedding(maxf, edim, input_length=maxl))\n",
    "    # Only return last output\n",
    "    if not CUDNN:\n",
    "        model.add(GRU(nhid, return_sequences=False, return_state=False))\n",
    "    else:\n",
    "        model.add(CuDNNGRU(nhid, return_sequences=False, return_state=False))\n",
    "    model.add(Dense(2, activation='softmax'))\n",
    "    return model"
   ]
  },
  {
   "cell_type": "code",
   "execution_count": 5,
   "metadata": {},
   "outputs": [],
   "source": [
    "def init_model(m, lr=LR, b1=BETA_1, b2=BETA_2, eps=EPS):\n",
    "    m.compile(\n",
    "        loss = \"categorical_crossentropy\",\n",
    "        optimizer = K.optimizers.Adam(lr, b1, b2, eps),\n",
    "        metrics = ['accuracy'])\n",
    "    return m"
   ]
  },
  {
   "cell_type": "code",
   "execution_count": 6,
   "metadata": {},
   "outputs": [
    {
     "name": "stdout",
     "output_type": "stream",
     "text": [
      "Preparing train set...\n",
      "Preparing test set...\n",
      "Trimming to 30000 max-features\n",
      "Padding to length 150\n"
     ]
    },
    {
     "name": "stderr",
     "output_type": "stream",
     "text": [
      "/home/jacaraba/.conda/envs/ngaml/lib/python3.6/site-packages/sklearn/preprocessing/_encoders.py:441: DeprecationWarning: The 'categorical_features' keyword is deprecated in version 0.20 and will be removed in 0.22. The passed value of 'all' is the default and can simply be removed.\n",
      "  DeprecationWarning)\n"
     ]
    },
    {
     "name": "stdout",
     "output_type": "stream",
     "text": [
      "(25000, 150) (25000, 150) (25000, 2) (25000, 2)\n",
      "int32 int32 int32 int32\n",
      "CPU times: user 4.91 s, sys: 425 ms, total: 5.34 s\n",
      "Wall time: 5.42 s\n"
     ]
    }
   ],
   "source": [
    "%%time\n",
    "# Data into format for library\n",
    "x_train, x_test, y_train, y_test = imdb_for_library(seq_len=MAXLEN, max_features=MAXFEATURES, one_hot=True)\n",
    "print(x_train.shape, x_test.shape, y_train.shape, y_test.shape)\n",
    "print(x_train.dtype, x_test.dtype, y_train.dtype, y_test.dtype)"
   ]
  },
  {
   "cell_type": "code",
   "execution_count": 7,
   "metadata": {},
   "outputs": [
    {
     "name": "stdout",
     "output_type": "stream",
     "text": [
      "CPU times: user 3.42 s, sys: 9.42 s, total: 12.8 s\n",
      "Wall time: 13.8 s\n"
     ]
    }
   ],
   "source": [
    "%%time\n",
    "# Load symbol\n",
    "sym = create_symbol()"
   ]
  },
  {
   "cell_type": "code",
   "execution_count": 8,
   "metadata": {},
   "outputs": [
    {
     "name": "stdout",
     "output_type": "stream",
     "text": [
      "CPU times: user 26.5 ms, sys: 322 µs, total: 26.9 ms\n",
      "Wall time: 25.9 ms\n"
     ]
    }
   ],
   "source": [
    "%%time\n",
    "# Initialise model\n",
    "model = init_model(sym)"
   ]
  },
  {
   "cell_type": "code",
   "execution_count": 9,
   "metadata": {},
   "outputs": [
    {
     "name": "stdout",
     "output_type": "stream",
     "text": [
      "_________________________________________________________________\n",
      "Layer (type)                 Output Shape              Param #   \n",
      "=================================================================\n",
      "embedding_1 (Embedding)      (None, 150, 125)          3750000   \n",
      "_________________________________________________________________\n",
      "cu_dnngru_1 (CuDNNGRU)       (None, 100)               68100     \n",
      "_________________________________________________________________\n",
      "dense_1 (Dense)              (None, 2)                 202       \n",
      "=================================================================\n",
      "Total params: 3,818,302\n",
      "Trainable params: 3,818,302\n",
      "Non-trainable params: 0\n",
      "_________________________________________________________________\n"
     ]
    }
   ],
   "source": [
    "model.summary()"
   ]
  },
  {
   "cell_type": "code",
   "execution_count": 10,
   "metadata": {},
   "outputs": [
    {
     "name": "stdout",
     "output_type": "stream",
     "text": [
      "Epoch 1/40\n",
      "25000/25000 [==============================] - 49s 2ms/step - loss: 0.5173 - acc: 0.7168\n",
      "Epoch 2/40\n",
      "25000/25000 [==============================] - 6s 231us/step - loss: 0.2351 - acc: 0.9112\n",
      "Epoch 3/40\n",
      "25000/25000 [==============================] - 6s 231us/step - loss: 0.1214 - acc: 0.9591\n",
      "Epoch 4/40\n",
      "25000/25000 [==============================] - 6s 226us/step - loss: 0.0585 - acc: 0.9816\n",
      "Epoch 5/40\n",
      "25000/25000 [==============================] - 6s 229us/step - loss: 0.0313 - acc: 0.9910\n",
      "Epoch 6/40\n",
      "25000/25000 [==============================] - 6s 232us/step - loss: 0.0185 - acc: 0.9946\n",
      "Epoch 7/40\n",
      "25000/25000 [==============================] - 6s 229us/step - loss: 0.0114 - acc: 0.9969\n",
      "Epoch 8/40\n",
      "25000/25000 [==============================] - 6s 235us/step - loss: 0.0120 - acc: 0.9962\n",
      "Epoch 9/40\n",
      "25000/25000 [==============================] - 6s 231us/step - loss: 0.0077 - acc: 0.9973\n",
      "Epoch 10/40\n",
      "25000/25000 [==============================] - 6s 228us/step - loss: 0.0036 - acc: 0.9989\n",
      "Epoch 11/40\n",
      "25000/25000 [==============================] - 6s 227us/step - loss: 0.0042 - acc: 0.9986\n",
      "Epoch 12/40\n",
      "25000/25000 [==============================] - 6s 226us/step - loss: 0.0056 - acc: 0.9982\n",
      "Epoch 13/40\n",
      "25000/25000 [==============================] - 6s 221us/step - loss: 0.0066 - acc: 0.9978\n",
      "Epoch 14/40\n",
      "25000/25000 [==============================] - 6s 229us/step - loss: 0.0036 - acc: 0.9991\n",
      "Epoch 15/40\n",
      "25000/25000 [==============================] - 6s 227us/step - loss: 0.0016 - acc: 0.9995\n",
      "Epoch 16/40\n",
      "25000/25000 [==============================] - 6s 223us/step - loss: 1.0493e-04 - acc: 1.0000\n",
      "Epoch 17/40\n",
      "25000/25000 [==============================] - 6s 230us/step - loss: 1.3774e-05 - acc: 1.0000\n",
      "Epoch 18/40\n",
      "25000/25000 [==============================] - 6s 227us/step - loss: 7.3972e-06 - acc: 1.0000\n",
      "Epoch 19/40\n",
      "25000/25000 [==============================] - 6s 225us/step - loss: 5.2081e-06 - acc: 1.0000\n",
      "Epoch 20/40\n",
      "25000/25000 [==============================] - 6s 228us/step - loss: 3.9219e-06 - acc: 1.0000\n",
      "Epoch 21/40\n",
      "25000/25000 [==============================] - 6s 222us/step - loss: 3.0433e-06 - acc: 1.0000\n",
      "Epoch 22/40\n",
      "25000/25000 [==============================] - 6s 226us/step - loss: 2.3603e-06 - acc: 1.0000\n",
      "Epoch 23/40\n",
      "25000/25000 [==============================] - 6s 225us/step - loss: 1.8859e-06 - acc: 1.0000\n",
      "Epoch 24/40\n",
      "25000/25000 [==============================] - 6s 225us/step - loss: 1.4998e-06 - acc: 1.0000\n",
      "Epoch 25/40\n",
      "25000/25000 [==============================] - 6s 223us/step - loss: 1.2187e-06 - acc: 1.0000\n",
      "Epoch 26/40\n",
      "25000/25000 [==============================] - 6s 224us/step - loss: 9.9046e-07 - acc: 1.0000\n",
      "Epoch 27/40\n",
      "25000/25000 [==============================] - 6s 227us/step - loss: 8.1383e-07 - acc: 1.0000\n",
      "Epoch 28/40\n",
      "25000/25000 [==============================] - 6s 230us/step - loss: 6.7355e-07 - acc: 1.0000\n",
      "Epoch 29/40\n",
      "25000/25000 [==============================] - 6s 230us/step - loss: 5.6220e-07 - acc: 1.0000\n",
      "Epoch 30/40\n",
      "25000/25000 [==============================] - 6s 227us/step - loss: 4.7325e-07 - acc: 1.0000\n",
      "Epoch 31/40\n",
      "25000/25000 [==============================] - 6s 222us/step - loss: 4.0071e-07 - acc: 1.0000\n",
      "Epoch 32/40\n",
      "25000/25000 [==============================] - 6s 224us/step - loss: 3.4418e-07 - acc: 1.0000\n",
      "Epoch 33/40\n",
      "25000/25000 [==============================] - 6s 222us/step - loss: 2.9841e-07 - acc: 1.0000\n",
      "Epoch 34/40\n",
      "25000/25000 [==============================] - 6s 223us/step - loss: 2.6191e-07 - acc: 1.0000\n",
      "Epoch 35/40\n",
      "25000/25000 [==============================] - 6s 225us/step - loss: 2.3282e-07 - acc: 1.0000\n",
      "Epoch 36/40\n",
      "25000/25000 [==============================] - 6s 227us/step - loss: 2.0913e-07 - acc: 1.0000\n",
      "Epoch 37/40\n",
      "25000/25000 [==============================] - 5s 219us/step - loss: 1.9087e-07 - acc: 1.0000\n",
      "Epoch 38/40\n",
      "25000/25000 [==============================] - 6s 225us/step - loss: 1.7568e-07 - acc: 1.0000\n",
      "Epoch 39/40\n",
      "25000/25000 [==============================] - 6s 226us/step - loss: 1.6396e-07 - acc: 1.0000\n",
      "Epoch 40/40\n",
      "25000/25000 [==============================] - 6s 222us/step - loss: 1.5442e-07 - acc: 1.0000\n",
      "CPU times: user 4min 48s, sys: 32.3 s, total: 5min 20s\n",
      "Wall time: 4min 31s\n"
     ]
    }
   ],
   "source": [
    "%%time\n",
    "# Main training loop: 26s\n",
    "EPOCHS=40\n",
    "model.fit(x_train,\n",
    "          y_train,\n",
    "          batch_size=BATCHSIZE,\n",
    "          epochs=EPOCHS,\n",
    "          verbose=1)"
   ]
  },
  {
   "cell_type": "code",
   "execution_count": 11,
   "metadata": {},
   "outputs": [
    {
     "name": "stdout",
     "output_type": "stream",
     "text": [
      "CPU times: user 2.49 s, sys: 231 ms, total: 2.72 s\n",
      "Wall time: 2.23 s\n"
     ]
    }
   ],
   "source": [
    "%%time\n",
    "# Main evaluation loop: 3s\n",
    "y_guess = model.predict(x_test, batch_size=BATCHSIZE)\n",
    "y_guess = np.argmax(y_guess, axis=-1)\n",
    "y_truth = np.argmax(y_test, axis=-1)"
   ]
  },
  {
   "cell_type": "code",
   "execution_count": 12,
   "metadata": {},
   "outputs": [
    {
     "name": "stdout",
     "output_type": "stream",
     "text": [
      "Accuracy:  0.84032\n"
     ]
    }
   ],
   "source": [
    "print(\"Accuracy: \", sum(y_guess == y_truth)/len(y_guess))"
   ]
  }
 ],
 "metadata": {
  "anaconda-cloud": {},
  "kernelspec": {
   "display_name": "Python [conda env:.conda-ngaml]",
   "language": "python",
   "name": "conda-env-.conda-ngaml-py"
  },
  "language_info": {
   "codemirror_mode": {
    "name": "ipython",
    "version": 3
   },
   "file_extension": ".py",
   "mimetype": "text/x-python",
   "name": "python",
   "nbconvert_exporter": "python",
   "pygments_lexer": "ipython3",
   "version": "3.6.7"
  }
 },
 "nbformat": 4,
 "nbformat_minor": 4
}
