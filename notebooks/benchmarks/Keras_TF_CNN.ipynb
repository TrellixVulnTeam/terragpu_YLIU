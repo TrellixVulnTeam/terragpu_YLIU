{
 "cells": [
  {
   "cell_type": "markdown",
   "metadata": {},
   "source": [
    "# High-level CNN Keras (TF) Example"
   ]
  },
  {
   "cell_type": "markdown",
   "metadata": {},
   "source": [
    "*Modified by Jordan A Caraballo Vega (jordancaraballo)*"
   ]
  },
  {
   "cell_type": "code",
   "execution_count": 1,
   "metadata": {},
   "outputs": [
    {
     "name": "stderr",
     "output_type": "stream",
     "text": [
      "Using TensorFlow backend.\n"
     ]
    }
   ],
   "source": [
    "import os\n",
    "import sys\n",
    "import numpy as np\n",
    "os.environ['KERAS_BACKEND'] = \"tensorflow\"\n",
    "\n",
    "import warnings # make notebook more readable and nice\n",
    "warnings.filterwarnings('ignore', category=FutureWarning)\n",
    "warnings.filterwarnings('ignore', category=DeprecationWarning)\n",
    "from tensorflow.python.util import deprecation\n",
    "deprecation._PRINT_DEPRECATION_WARNINGS = False\n",
    "\n",
    "import keras as K\n",
    "import tensorflow\n",
    "from keras.models import Sequential\n",
    "from keras.layers import Dense, Dropout, Flatten\n",
    "from keras.layers import Conv2D, MaxPooling2D, Dropout\n",
    "from common.params import *\n",
    "from common.utils import *"
   ]
  },
  {
   "cell_type": "code",
   "execution_count": 2,
   "metadata": {},
   "outputs": [],
   "source": [
    "# Force one-gpu\n",
    "os.environ[\"CUDA_VISIBLE_DEVICES\"] = \"0\""
   ]
  },
  {
   "cell_type": "code",
   "execution_count": 3,
   "metadata": {},
   "outputs": [],
   "source": [
    "# Performance Improvement\n",
    "# 1. Make sure channels-first (not last)\n",
    "K.backend.set_image_data_format('channels_first')"
   ]
  },
  {
   "cell_type": "code",
   "execution_count": 4,
   "metadata": {},
   "outputs": [
    {
     "name": "stdout",
     "output_type": "stream",
     "text": [
      "OS:  linux\n",
      "Python:  3.6.7 | packaged by conda-forge | (default, Jul  2 2019, 02:18:42) \n",
      "[GCC 7.3.0]\n",
      "Keras:  2.2.4\n",
      "Numpy:  1.17.0\n",
      "Tensorflow:  1.13.1\n",
      "tensorflow\n",
      "channels_first\n",
      "GPU:  ['Tesla V100-SXM2-16GB', 'Tesla V100-SXM2-16GB', 'Tesla V100-SXM2-16GB', 'Tesla V100-SXM2-16GB']\n",
      "CUDA Version 10.1.243\n",
      "CuDNN Version  No CUDNN in this machine\n"
     ]
    }
   ],
   "source": [
    "print(\"OS: \", sys.platform)\n",
    "print(\"Python: \", sys.version)\n",
    "print(\"Keras: \", K.__version__)\n",
    "print(\"Numpy: \", np.__version__)\n",
    "print(\"Tensorflow: \", tensorflow.__version__)\n",
    "print(K.backend.backend())\n",
    "print(K.backend.image_data_format())\n",
    "print(\"GPU: \", get_gpu_name())\n",
    "print(get_cuda_version())\n",
    "print(\"CuDNN Version \", get_cudnn_version())"
   ]
  },
  {
   "cell_type": "code",
   "execution_count": 5,
   "metadata": {},
   "outputs": [],
   "source": [
    "def create_symbol(n_classes=N_CLASSES):\n",
    "    model = Sequential()\n",
    "    \n",
    "    model.add(Conv2D(50, kernel_size=(3, 3), padding='same', activation='relu',\n",
    "                     input_shape=(3, 32, 32)))\n",
    "    model.add(Conv2D(50, kernel_size=(3, 3), padding='same', activation='relu'))    \n",
    "    model.add(MaxPooling2D(pool_size=(2, 2), strides=(2, 2)))\n",
    "    model.add(Dropout(0.25))\n",
    "    \n",
    "    model.add(Conv2D(100, kernel_size=(3, 3), padding='same', activation='relu'))\n",
    "    model.add(Conv2D(100, kernel_size=(3, 3), padding='same', activation='relu'))    \n",
    "    model.add(MaxPooling2D(pool_size=(2, 2), strides=(2, 2)))\n",
    "    model.add(Dropout(0.25))\n",
    "        \n",
    "    model.add(Flatten())\n",
    "    model.add(Dense(512, activation='relu'))\n",
    "    model.add(Dropout(0.5))\n",
    "    model.add(Dense(n_classes, activation='softmax'))\n",
    "    return model"
   ]
  },
  {
   "cell_type": "code",
   "execution_count": 6,
   "metadata": {},
   "outputs": [],
   "source": [
    "def init_model(m, lr=LR, momentum=MOMENTUM):\n",
    "    m.compile(\n",
    "        loss = \"categorical_crossentropy\",\n",
    "        optimizer = K.optimizers.SGD(lr, momentum),\n",
    "        metrics = ['accuracy'])\n",
    "    return m"
   ]
  },
  {
   "cell_type": "code",
   "execution_count": 7,
   "metadata": {},
   "outputs": [
    {
     "name": "stdout",
     "output_type": "stream",
     "text": [
      "Preparing train set...\n",
      "Preparing test set...\n"
     ]
    },
    {
     "name": "stderr",
     "output_type": "stream",
     "text": [
      "/home/jacaraba/.conda/envs/ngaml/lib/python3.6/site-packages/sklearn/preprocessing/_encoders.py:441: DeprecationWarning: The 'categorical_features' keyword is deprecated in version 0.20 and will be removed in 0.22. The passed value of 'all' is the default and can simply be removed.\n",
      "  DeprecationWarning)\n"
     ]
    },
    {
     "name": "stdout",
     "output_type": "stream",
     "text": [
      "(50000, 3, 32, 32) (10000, 3, 32, 32) (50000, 10) (10000, 10)\n",
      "float32 float32 int32 int32\n",
      "CPU times: user 531 ms, sys: 738 ms, total: 1.27 s\n",
      "Wall time: 3.4 s\n"
     ]
    }
   ],
   "source": [
    "%%time\n",
    "# Data into format for library\n",
    "x_train, x_test, y_train, y_test = cifar_for_library(channel_first=True, one_hot=True)\n",
    "print(x_train.shape, x_test.shape, y_train.shape, y_test.shape)\n",
    "print(x_train.dtype, x_test.dtype, y_train.dtype, y_test.dtype)"
   ]
  },
  {
   "cell_type": "code",
   "execution_count": 8,
   "metadata": {},
   "outputs": [
    {
     "name": "stdout",
     "output_type": "stream",
     "text": [
      "CPU times: user 1.05 s, sys: 1.51 s, total: 2.56 s\n",
      "Wall time: 26.8 s\n"
     ]
    }
   ],
   "source": [
    "%%time\n",
    "# Load symbol\n",
    "sym = create_symbol()"
   ]
  },
  {
   "cell_type": "code",
   "execution_count": 9,
   "metadata": {},
   "outputs": [
    {
     "name": "stdout",
     "output_type": "stream",
     "text": [
      "CPU times: user 27 ms, sys: 3.27 ms, total: 30.3 ms\n",
      "Wall time: 27.9 ms\n"
     ]
    }
   ],
   "source": [
    "%%time\n",
    "# Initialise model\n",
    "model = init_model(sym)"
   ]
  },
  {
   "cell_type": "code",
   "execution_count": 10,
   "metadata": {},
   "outputs": [
    {
     "name": "stdout",
     "output_type": "stream",
     "text": [
      "_________________________________________________________________\n",
      "Layer (type)                 Output Shape              Param #   \n",
      "=================================================================\n",
      "conv2d_1 (Conv2D)            (None, 50, 32, 32)        1400      \n",
      "_________________________________________________________________\n",
      "conv2d_2 (Conv2D)            (None, 50, 32, 32)        22550     \n",
      "_________________________________________________________________\n",
      "max_pooling2d_1 (MaxPooling2 (None, 50, 16, 16)        0         \n",
      "_________________________________________________________________\n",
      "dropout_1 (Dropout)          (None, 50, 16, 16)        0         \n",
      "_________________________________________________________________\n",
      "conv2d_3 (Conv2D)            (None, 100, 16, 16)       45100     \n",
      "_________________________________________________________________\n",
      "conv2d_4 (Conv2D)            (None, 100, 16, 16)       90100     \n",
      "_________________________________________________________________\n",
      "max_pooling2d_2 (MaxPooling2 (None, 100, 8, 8)         0         \n",
      "_________________________________________________________________\n",
      "dropout_2 (Dropout)          (None, 100, 8, 8)         0         \n",
      "_________________________________________________________________\n",
      "flatten_1 (Flatten)          (None, 6400)              0         \n",
      "_________________________________________________________________\n",
      "dense_1 (Dense)              (None, 512)               3277312   \n",
      "_________________________________________________________________\n",
      "dropout_3 (Dropout)          (None, 512)               0         \n",
      "_________________________________________________________________\n",
      "dense_2 (Dense)              (None, 10)                5130      \n",
      "=================================================================\n",
      "Total params: 3,441,592\n",
      "Trainable params: 3,441,592\n",
      "Non-trainable params: 0\n",
      "_________________________________________________________________\n"
     ]
    }
   ],
   "source": [
    "model.summary()"
   ]
  },
  {
   "cell_type": "code",
   "execution_count": 11,
   "metadata": {},
   "outputs": [
    {
     "name": "stdout",
     "output_type": "stream",
     "text": [
      "Epoch 1/40\n",
      "50000/50000 [==============================] - 27s 533us/step - loss: 2.0714 - acc: 0.2359\n",
      "Epoch 2/40\n",
      "50000/50000 [==============================] - 3s 65us/step - loss: 1.6919 - acc: 0.3905\n",
      "Epoch 3/40\n",
      "50000/50000 [==============================] - 3s 67us/step - loss: 1.4951 - acc: 0.4612\n",
      "Epoch 4/40\n",
      "50000/50000 [==============================] - 3s 66us/step - loss: 1.3482 - acc: 0.5151\n",
      "Epoch 5/40\n",
      "50000/50000 [==============================] - 3s 65us/step - loss: 1.2347 - acc: 0.5591\n",
      "Epoch 6/40\n",
      "50000/50000 [==============================] - 3s 68us/step - loss: 1.1232 - acc: 0.5984\n",
      "Epoch 7/40\n",
      "50000/50000 [==============================] - 3s 63us/step - loss: 1.0518 - acc: 0.6264\n",
      "Epoch 8/40\n",
      "50000/50000 [==============================] - 3s 64us/step - loss: 0.9759 - acc: 0.6538\n",
      "Epoch 9/40\n",
      "50000/50000 [==============================] - 3s 65us/step - loss: 0.9175 - acc: 0.6745\n",
      "Epoch 10/40\n",
      "50000/50000 [==============================] - 3s 64us/step - loss: 0.8656 - acc: 0.6926\n",
      "Epoch 11/40\n",
      "50000/50000 [==============================] - 3s 62us/step - loss: 0.8146 - acc: 0.7117\n",
      "Epoch 12/40\n",
      "50000/50000 [==============================] - 3s 61us/step - loss: 0.7662 - acc: 0.7296\n",
      "Epoch 13/40\n",
      "50000/50000 [==============================] - 3s 62us/step - loss: 0.7266 - acc: 0.7458\n",
      "Epoch 14/40\n",
      "50000/50000 [==============================] - 3s 62us/step - loss: 0.6991 - acc: 0.7516\n",
      "Epoch 15/40\n",
      "50000/50000 [==============================] - 3s 62us/step - loss: 0.6694 - acc: 0.7645\n",
      "Epoch 16/40\n",
      "50000/50000 [==============================] - 3s 62us/step - loss: 0.6275 - acc: 0.7786\n",
      "Epoch 17/40\n",
      "50000/50000 [==============================] - 3s 63us/step - loss: 0.6009 - acc: 0.7881\n",
      "Epoch 18/40\n",
      "50000/50000 [==============================] - 3s 61us/step - loss: 0.5691 - acc: 0.7979\n",
      "Epoch 19/40\n",
      "50000/50000 [==============================] - 3s 61us/step - loss: 0.5469 - acc: 0.8051\n",
      "Epoch 20/40\n",
      "50000/50000 [==============================] - 3s 62us/step - loss: 0.5153 - acc: 0.8175\n",
      "Epoch 21/40\n",
      "50000/50000 [==============================] - 3s 62us/step - loss: 0.4958 - acc: 0.8241\n",
      "Epoch 22/40\n",
      "50000/50000 [==============================] - 3s 62us/step - loss: 0.4761 - acc: 0.8301\n",
      "Epoch 23/40\n",
      "50000/50000 [==============================] - 3s 61us/step - loss: 0.4482 - acc: 0.8406\n",
      "Epoch 24/40\n",
      "50000/50000 [==============================] - 3s 62us/step - loss: 0.4301 - acc: 0.8463\n",
      "Epoch 25/40\n",
      "50000/50000 [==============================] - 3s 62us/step - loss: 0.4109 - acc: 0.8528\n",
      "Epoch 26/40\n",
      "50000/50000 [==============================] - 3s 62us/step - loss: 0.3847 - acc: 0.8619\n",
      "Epoch 27/40\n",
      "50000/50000 [==============================] - 3s 62us/step - loss: 0.3751 - acc: 0.8662\n",
      "Epoch 28/40\n",
      "50000/50000 [==============================] - 3s 63us/step - loss: 0.3573 - acc: 0.8721\n",
      "Epoch 29/40\n",
      "50000/50000 [==============================] - 3s 61us/step - loss: 0.3339 - acc: 0.8786\n",
      "Epoch 30/40\n",
      "50000/50000 [==============================] - 3s 62us/step - loss: 0.3199 - acc: 0.8861\n",
      "Epoch 31/40\n",
      "50000/50000 [==============================] - 3s 62us/step - loss: 0.3070 - acc: 0.8919\n",
      "Epoch 32/40\n",
      "50000/50000 [==============================] - 3s 64us/step - loss: 0.2928 - acc: 0.8932\n",
      "Epoch 33/40\n",
      "50000/50000 [==============================] - 3s 62us/step - loss: 0.2771 - acc: 0.9005\n",
      "Epoch 34/40\n",
      "50000/50000 [==============================] - 3s 62us/step - loss: 0.2664 - acc: 0.9050\n",
      "Epoch 35/40\n",
      "50000/50000 [==============================] - 3s 61us/step - loss: 0.2540 - acc: 0.9092\n",
      "Epoch 36/40\n",
      "50000/50000 [==============================] - 3s 61us/step - loss: 0.2389 - acc: 0.9140\n",
      "Epoch 37/40\n",
      "50000/50000 [==============================] - 3s 62us/step - loss: 0.2314 - acc: 0.9160\n",
      "Epoch 38/40\n",
      "50000/50000 [==============================] - 3s 61us/step - loss: 0.2183 - acc: 0.9223\n",
      "Epoch 39/40\n",
      "50000/50000 [==============================] - 3s 62us/step - loss: 0.2136 - acc: 0.9240\n",
      "Epoch 40/40\n",
      "50000/50000 [==============================] - 3s 62us/step - loss: 0.2068 - acc: 0.9251\n",
      "CPU times: user 2min 2s, sys: 38.8 s, total: 2min 41s\n",
      "Wall time: 2min 29s\n"
     ]
    }
   ],
   "source": [
    "%%time\n",
    "# Main training loop: 1m16s\n",
    "EPOCHS=40\n",
    "model.fit(x_train,\n",
    "          y_train,\n",
    "          batch_size=BATCHSIZE,\n",
    "          epochs=EPOCHS,\n",
    "          verbose=1)"
   ]
  },
  {
   "cell_type": "code",
   "execution_count": 12,
   "metadata": {},
   "outputs": [
    {
     "name": "stdout",
     "output_type": "stream",
     "text": [
      "CPU times: user 258 ms, sys: 100 ms, total: 358 ms\n",
      "Wall time: 398 ms\n"
     ]
    }
   ],
   "source": [
    "%%time\n",
    "# Main evaluation loop\n",
    "y_guess = model.predict(x_test, batch_size=BATCHSIZE)\n",
    "y_guess = np.argmax(y_guess, axis=-1)\n",
    "y_truth = np.argmax(y_test, axis=-1)"
   ]
  },
  {
   "cell_type": "code",
   "execution_count": 13,
   "metadata": {},
   "outputs": [
    {
     "name": "stdout",
     "output_type": "stream",
     "text": [
      "Accuracy:  0.8051\n"
     ]
    }
   ],
   "source": [
    "print(\"Accuracy: \", 1.*sum(y_guess == y_truth)/len(y_guess))"
   ]
  }
 ],
 "metadata": {
  "anaconda-cloud": {},
  "kernelspec": {
   "display_name": "Python [conda env:.conda-ngaml]",
   "language": "python",
   "name": "conda-env-.conda-ngaml-py"
  },
  "language_info": {
   "codemirror_mode": {
    "name": "ipython",
    "version": 3
   },
   "file_extension": ".py",
   "mimetype": "text/x-python",
   "name": "python",
   "nbconvert_exporter": "python",
   "pygments_lexer": "ipython3",
   "version": "3.6.7"
  }
 },
 "nbformat": 4,
 "nbformat_minor": 4
}
