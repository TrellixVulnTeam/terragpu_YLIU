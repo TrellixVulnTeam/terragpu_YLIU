{
 "cells": [
  {
   "cell_type": "markdown",
   "metadata": {},
   "source": [
    "# High-level CNN Keras (TF) Example"
   ]
  },
  {
   "cell_type": "markdown",
   "metadata": {},
   "source": [
    "*Modified by Jordan A Caraballo Vega (jordancaraballo)*"
   ]
  },
  {
   "cell_type": "code",
   "execution_count": 1,
   "metadata": {},
   "outputs": [
    {
     "name": "stderr",
     "output_type": "stream",
     "text": [
      "Using TensorFlow backend.\n"
     ]
    }
   ],
   "source": [
    "import os\n",
    "import sys\n",
    "import numpy as np\n",
    "os.environ['KERAS_BACKEND'] = \"tensorflow\"\n",
    "MULTI_GPU = True\n",
    "\n",
    "import warnings # make notebook more readable and nice\n",
    "warnings.filterwarnings('ignore', category=FutureWarning)\n",
    "warnings.filterwarnings('ignore', category=DeprecationWarning)\n",
    "from tensorflow.python.util import deprecation\n",
    "deprecation._PRINT_DEPRECATION_WARNINGS = False\n",
    "\n",
    "import keras as K\n",
    "import tensorflow\n",
    "from keras.models import Sequential\n",
    "from keras.layers import Dense, Dropout, Flatten\n",
    "from keras.layers import Conv2D, MaxPooling2D, Dropout\n",
    "from keras.utils import multi_gpu_model\n",
    "from common.params import *\n",
    "from common.utils import *"
   ]
  },
  {
   "cell_type": "code",
   "execution_count": 2,
   "metadata": {},
   "outputs": [],
   "source": [
    "# Force one-gpu\n",
    "os.environ[\"CUDA_VISIBLE_DEVICES\"] = \"0,1,2,3\""
   ]
  },
  {
   "cell_type": "code",
   "execution_count": 3,
   "metadata": {},
   "outputs": [],
   "source": [
    "# Performance Improvement\n",
    "# 1. Make sure channels-first (not last)\n",
    "K.backend.set_image_data_format('channels_first')"
   ]
  },
  {
   "cell_type": "code",
   "execution_count": 4,
   "metadata": {},
   "outputs": [
    {
     "name": "stdout",
     "output_type": "stream",
     "text": [
      "OS:  linux\n",
      "Python:  3.6.7 | packaged by conda-forge | (default, Jul  2 2019, 02:18:42) \n",
      "[GCC 7.3.0]\n",
      "Keras:  2.2.4\n",
      "Numpy:  1.17.0\n",
      "Tensorflow:  1.13.1\n",
      "tensorflow\n",
      "channels_first\n",
      "GPU:  ['Tesla V100-SXM2-16GB', 'Tesla V100-SXM2-16GB', 'Tesla V100-SXM2-16GB', 'Tesla V100-SXM2-16GB']\n",
      "CUDA Version 10.1.243\n",
      "CuDNN Version  No CUDNN in this machine\n"
     ]
    }
   ],
   "source": [
    "print(\"OS: \", sys.platform)\n",
    "print(\"Python: \", sys.version)\n",
    "print(\"Keras: \", K.__version__)\n",
    "print(\"Numpy: \", np.__version__)\n",
    "print(\"Tensorflow: \", tensorflow.__version__)\n",
    "print(K.backend.backend())\n",
    "print(K.backend.image_data_format())\n",
    "print(\"GPU: \", get_gpu_name())\n",
    "print(get_cuda_version())\n",
    "print(\"CuDNN Version \", get_cudnn_version())"
   ]
  },
  {
   "cell_type": "code",
   "execution_count": 5,
   "metadata": {},
   "outputs": [
    {
     "name": "stdout",
     "output_type": "stream",
     "text": [
      "CPUs:  48\n",
      "GPUs:  4\n"
     ]
    }
   ],
   "source": [
    "CPU_COUNT = multiprocessing.cpu_count()\n",
    "GPU_COUNT = len(get_gpu_name())\n",
    "print(\"CPUs: \", CPU_COUNT)\n",
    "print(\"GPUs: \", GPU_COUNT)"
   ]
  },
  {
   "cell_type": "code",
   "execution_count": 6,
   "metadata": {},
   "outputs": [],
   "source": [
    "def create_symbol(n_classes=N_CLASSES):\n",
    "    model = Sequential()\n",
    "    \n",
    "    model.add(Conv2D(50, kernel_size=(3, 3), padding='same', activation='relu',\n",
    "                     input_shape=(3, 32, 32)))\n",
    "    model.add(Conv2D(50, kernel_size=(3, 3), padding='same', activation='relu'))    \n",
    "    model.add(MaxPooling2D(pool_size=(2, 2), strides=(2, 2)))\n",
    "    model.add(Dropout(0.25))\n",
    "    \n",
    "    model.add(Conv2D(100, kernel_size=(3, 3), padding='same', activation='relu'))\n",
    "    model.add(Conv2D(100, kernel_size=(3, 3), padding='same', activation='relu'))    \n",
    "    model.add(MaxPooling2D(pool_size=(2, 2), strides=(2, 2)))\n",
    "    model.add(Dropout(0.25))\n",
    "        \n",
    "    model.add(Flatten())\n",
    "    model.add(Dense(512, activation='relu'))\n",
    "    model.add(Dropout(0.5))\n",
    "    model.add(Dense(n_classes, activation='softmax'))\n",
    "    return model"
   ]
  },
  {
   "cell_type": "code",
   "execution_count": 7,
   "metadata": {},
   "outputs": [],
   "source": [
    "def init_model(m, lr=LR, momentum=MOMENTUM):\n",
    "    m.compile(\n",
    "        loss = \"categorical_crossentropy\",\n",
    "        optimizer = K.optimizers.SGD(lr, momentum),\n",
    "        metrics = ['accuracy'])\n",
    "    return m"
   ]
  },
  {
   "cell_type": "code",
   "execution_count": 8,
   "metadata": {},
   "outputs": [
    {
     "name": "stdout",
     "output_type": "stream",
     "text": [
      "Preparing train set...\n",
      "Preparing test set...\n"
     ]
    },
    {
     "name": "stderr",
     "output_type": "stream",
     "text": [
      "/home/jacaraba/.conda/envs/ngaml/lib/python3.6/site-packages/sklearn/preprocessing/_encoders.py:441: DeprecationWarning: The 'categorical_features' keyword is deprecated in version 0.20 and will be removed in 0.22. The passed value of 'all' is the default and can simply be removed.\n",
      "  DeprecationWarning)\n"
     ]
    },
    {
     "name": "stdout",
     "output_type": "stream",
     "text": [
      "(50000, 3, 32, 32) (10000, 3, 32, 32) (50000, 10) (10000, 10)\n",
      "float32 float32 int32 int32\n",
      "CPU times: user 583 ms, sys: 663 ms, total: 1.25 s\n",
      "Wall time: 3.8 s\n"
     ]
    }
   ],
   "source": [
    "%%time\n",
    "# Data into format for library\n",
    "x_train, x_test, y_train, y_test = cifar_for_library(channel_first=True, one_hot=True)\n",
    "print(x_train.shape, x_test.shape, y_train.shape, y_test.shape)\n",
    "print(x_train.dtype, x_test.dtype, y_train.dtype, y_test.dtype)"
   ]
  },
  {
   "cell_type": "code",
   "execution_count": 9,
   "metadata": {},
   "outputs": [
    {
     "name": "stdout",
     "output_type": "stream",
     "text": [
      "CPU times: user 788 ms, sys: 917 ms, total: 1.71 s\n",
      "Wall time: 3.63 s\n"
     ]
    }
   ],
   "source": [
    "%%time\n",
    "# Load symbol\n",
    "if MULTI_GPU:\n",
    "    with tensorflow.device('/cpu:0'):\n",
    "        sym = create_symbol()\n",
    "        model_sym = multi_gpu_model(sym, gpus=GPU_COUNT)\n",
    "else:\n",
    "    model_sym = create_symbol()"
   ]
  },
  {
   "cell_type": "code",
   "execution_count": 10,
   "metadata": {},
   "outputs": [
    {
     "name": "stdout",
     "output_type": "stream",
     "text": [
      "CPU times: user 24.3 ms, sys: 1.92 ms, total: 26.2 ms\n",
      "Wall time: 24.9 ms\n"
     ]
    }
   ],
   "source": [
    "%%time\n",
    "# Initialise model\n",
    "model = init_model(model_sym)"
   ]
  },
  {
   "cell_type": "code",
   "execution_count": 11,
   "metadata": {},
   "outputs": [
    {
     "name": "stdout",
     "output_type": "stream",
     "text": [
      "__________________________________________________________________________________________________\n",
      "Layer (type)                    Output Shape         Param #     Connected to                     \n",
      "==================================================================================================\n",
      "conv2d_1_input (InputLayer)     (None, 3, 32, 32)    0                                            \n",
      "__________________________________________________________________________________________________\n",
      "lambda_1 (Lambda)               (None, 3, 32, 32)    0           conv2d_1_input[0][0]             \n",
      "__________________________________________________________________________________________________\n",
      "lambda_2 (Lambda)               (None, 3, 32, 32)    0           conv2d_1_input[0][0]             \n",
      "__________________________________________________________________________________________________\n",
      "lambda_3 (Lambda)               (None, 3, 32, 32)    0           conv2d_1_input[0][0]             \n",
      "__________________________________________________________________________________________________\n",
      "lambda_4 (Lambda)               (None, 3, 32, 32)    0           conv2d_1_input[0][0]             \n",
      "__________________________________________________________________________________________________\n",
      "sequential_1 (Sequential)       (None, 10)           3441592     lambda_1[0][0]                   \n",
      "                                                                 lambda_2[0][0]                   \n",
      "                                                                 lambda_3[0][0]                   \n",
      "                                                                 lambda_4[0][0]                   \n",
      "__________________________________________________________________________________________________\n",
      "dense_2 (Concatenate)           (None, 10)           0           sequential_1[1][0]               \n",
      "                                                                 sequential_1[2][0]               \n",
      "                                                                 sequential_1[3][0]               \n",
      "                                                                 sequential_1[4][0]               \n",
      "==================================================================================================\n",
      "Total params: 3,441,592\n",
      "Trainable params: 3,441,592\n",
      "Non-trainable params: 0\n",
      "__________________________________________________________________________________________________\n"
     ]
    }
   ],
   "source": [
    "model.summary()"
   ]
  },
  {
   "cell_type": "code",
   "execution_count": 12,
   "metadata": {},
   "outputs": [
    {
     "name": "stdout",
     "output_type": "stream",
     "text": [
      "Epoch 1/40\n",
      "50000/50000 [==============================] - 57s 1ms/step - loss: 2.0699 - acc: 0.2384\n",
      "Epoch 2/40\n",
      "50000/50000 [==============================] - 4s 77us/step - loss: 1.7268 - acc: 0.3780\n",
      "Epoch 3/40\n",
      "50000/50000 [==============================] - 4s 77us/step - loss: 1.5221 - acc: 0.4476\n",
      "Epoch 4/40\n",
      "50000/50000 [==============================] - 4s 77us/step - loss: 1.3904 - acc: 0.4987\n",
      "Epoch 5/40\n",
      "50000/50000 [==============================] - 4s 77us/step - loss: 1.2884 - acc: 0.5351\n",
      "Epoch 6/40\n",
      "50000/50000 [==============================] - 4s 77us/step - loss: 1.2026 - acc: 0.5700\n",
      "Epoch 7/40\n",
      "50000/50000 [==============================] - 4s 77us/step - loss: 1.1246 - acc: 0.5981\n",
      "Epoch 8/40\n",
      "50000/50000 [==============================] - 4s 77us/step - loss: 1.0528 - acc: 0.6224\n",
      "Epoch 9/40\n",
      "50000/50000 [==============================] - 4s 77us/step - loss: 0.9906 - acc: 0.6496\n",
      "Epoch 10/40\n",
      "50000/50000 [==============================] - 4s 77us/step - loss: 0.9333 - acc: 0.6685\n",
      "Epoch 11/40\n",
      "50000/50000 [==============================] - 4s 77us/step - loss: 0.8833 - acc: 0.6882\n",
      "Epoch 12/40\n",
      "50000/50000 [==============================] - 4s 76us/step - loss: 0.8401 - acc: 0.7032\n",
      "Epoch 13/40\n",
      "50000/50000 [==============================] - 4s 76us/step - loss: 0.7994 - acc: 0.7198\n",
      "Epoch 14/40\n",
      "50000/50000 [==============================] - 4s 77us/step - loss: 0.7564 - acc: 0.7319\n",
      "Epoch 15/40\n",
      "50000/50000 [==============================] - 4s 76us/step - loss: 0.7126 - acc: 0.7487\n",
      "Epoch 16/40\n",
      "50000/50000 [==============================] - 4s 77us/step - loss: 0.6843 - acc: 0.7578\n",
      "Epoch 17/40\n",
      "50000/50000 [==============================] - 4s 77us/step - loss: 0.6505 - acc: 0.7710\n",
      "Epoch 18/40\n",
      "50000/50000 [==============================] - 4s 76us/step - loss: 0.6176 - acc: 0.7812\n",
      "Epoch 19/40\n",
      "50000/50000 [==============================] - 4s 76us/step - loss: 0.5860 - acc: 0.7918\n",
      "Epoch 20/40\n",
      "50000/50000 [==============================] - 4s 76us/step - loss: 0.5617 - acc: 0.8010\n",
      "Epoch 21/40\n",
      "50000/50000 [==============================] - 4s 76us/step - loss: 0.5362 - acc: 0.8096\n",
      "Epoch 22/40\n",
      "50000/50000 [==============================] - 4s 77us/step - loss: 0.5032 - acc: 0.8216\n",
      "Epoch 23/40\n",
      "50000/50000 [==============================] - 4s 77us/step - loss: 0.4732 - acc: 0.8301\n",
      "Epoch 24/40\n",
      "50000/50000 [==============================] - 4s 77us/step - loss: 0.4524 - acc: 0.8393\n",
      "Epoch 25/40\n",
      "50000/50000 [==============================] - 4s 77us/step - loss: 0.4376 - acc: 0.8441\n",
      "Epoch 26/40\n",
      "50000/50000 [==============================] - 4s 76us/step - loss: 0.4136 - acc: 0.8533\n",
      "Epoch 27/40\n",
      "50000/50000 [==============================] - 4s 77us/step - loss: 0.3891 - acc: 0.8594\n",
      "Epoch 28/40\n",
      "50000/50000 [==============================] - 4s 76us/step - loss: 0.3751 - acc: 0.8641\n",
      "Epoch 29/40\n",
      "50000/50000 [==============================] - 4s 76us/step - loss: 0.3590 - acc: 0.8721\n",
      "Epoch 30/40\n",
      "50000/50000 [==============================] - 4s 77us/step - loss: 0.3364 - acc: 0.8781\n",
      "Epoch 31/40\n",
      "50000/50000 [==============================] - 4s 77us/step - loss: 0.3261 - acc: 0.8824\n",
      "Epoch 32/40\n",
      "50000/50000 [==============================] - 4s 77us/step - loss: 0.3057 - acc: 0.8897\n",
      "Epoch 33/40\n",
      "50000/50000 [==============================] - 4s 77us/step - loss: 0.2887 - acc: 0.8964\n",
      "Epoch 34/40\n",
      "50000/50000 [==============================] - 4s 77us/step - loss: 0.2736 - acc: 0.9009\n",
      "Epoch 35/40\n",
      "50000/50000 [==============================] - 4s 77us/step - loss: 0.2722 - acc: 0.9031\n",
      "Epoch 36/40\n",
      "50000/50000 [==============================] - 4s 77us/step - loss: 0.2521 - acc: 0.9097\n",
      "Epoch 37/40\n",
      "50000/50000 [==============================] - 4s 77us/step - loss: 0.2428 - acc: 0.9123\n",
      "Epoch 38/40\n",
      "50000/50000 [==============================] - 4s 77us/step - loss: 0.2345 - acc: 0.9148\n",
      "Epoch 39/40\n",
      "50000/50000 [==============================] - 4s 77us/step - loss: 0.2201 - acc: 0.9207\n",
      "Epoch 40/40\n",
      "50000/50000 [==============================] - 4s 77us/step - loss: 0.2114 - acc: 0.9251\n",
      "CPU times: user 15min 42s, sys: 2min 19s, total: 18min 1s\n",
      "Wall time: 3min 27s\n"
     ]
    }
   ],
   "source": [
    "%%time\n",
    "# Main training loop: 1m16s\n",
    "EPOCHS=40\n",
    "model.fit(x_train,\n",
    "          y_train,\n",
    "          batch_size=BATCHSIZE,\n",
    "          epochs=EPOCHS,\n",
    "          verbose=1)"
   ]
  },
  {
   "cell_type": "code",
   "execution_count": 13,
   "metadata": {},
   "outputs": [
    {
     "name": "stdout",
     "output_type": "stream",
     "text": [
      "CPU times: user 1.62 s, sys: 235 ms, total: 1.86 s\n",
      "Wall time: 647 ms\n"
     ]
    }
   ],
   "source": [
    "%%time\n",
    "# Main evaluation loop\n",
    "y_guess = model.predict(x_test, batch_size=BATCHSIZE)\n",
    "y_guess = np.argmax(y_guess, axis=-1)\n",
    "y_truth = np.argmax(y_test, axis=-1)"
   ]
  },
  {
   "cell_type": "code",
   "execution_count": 14,
   "metadata": {},
   "outputs": [
    {
     "name": "stdout",
     "output_type": "stream",
     "text": [
      "Accuracy:  0.799\n"
     ]
    }
   ],
   "source": [
    "print(\"Accuracy: \", 1.*sum(y_guess == y_truth)/len(y_guess))"
   ]
  }
 ],
 "metadata": {
  "anaconda-cloud": {},
  "kernelspec": {
   "display_name": "Python [conda env:.conda-ngaml]",
   "language": "python",
   "name": "conda-env-.conda-ngaml-py"
  },
  "language_info": {
   "codemirror_mode": {
    "name": "ipython",
    "version": 3
   },
   "file_extension": ".py",
   "mimetype": "text/x-python",
   "name": "python",
   "nbconvert_exporter": "python",
   "pygments_lexer": "ipython3",
   "version": "3.6.7"
  }
 },
 "nbformat": 4,
 "nbformat_minor": 4
}
